{
 "cells": [
  {
   "cell_type": "code",
   "execution_count": 1,
   "metadata": {},
   "outputs": [],
   "source": [
    "import pandas as pd\n",
    "import os, sys\n",
    "\n",
    "module_path = os.path.abspath(os.path.join(\"../..\"))\n",
    "if module_path not in sys.path:\n",
    "    sys.path.append(module_path)\n",
    "from motion_marmot.simple_scene_classifier import SimpleSceneClassifier\n",
    "\n",
    "ssc = SimpleSceneClassifier(\"POC SSC\")"
   ]
  },
  {
   "cell_type": "code",
   "execution_count": 2,
   "metadata": {},
   "outputs": [
    {
     "name": "stdout",
     "output_type": "stream",
     "text": [
      "SimpleSceneClassifier(name=POC SSC)\n"
     ]
    }
   ],
   "source": [
    "print(ssc)"
   ]
  },
  {
   "cell_type": "code",
   "execution_count": 3,
   "metadata": {},
   "outputs": [
    {
     "name": "stdout",
     "output_type": "stream",
     "text": [
      "           avg       std  width  height  scene    scaled_avg  scaled_std\n",
      "0     0.336788  2.415257   1920    1080      2  1.624168e-07    0.000001\n",
      "1     0.408609  2.721680   1920    1080      2  1.970531e-07    0.000001\n",
      "2     0.451202  3.356803   1920    1080      2  2.175937e-07    0.000002\n",
      "3     0.529960  5.591995   1920    1080      2  2.555749e-07    0.000003\n",
      "4     0.458626  3.192411   1920    1080      2  2.211736e-07    0.000002\n",
      "...        ...       ...    ...     ...    ...           ...         ...\n",
      "6396  0.354914  2.165539   1920    1080      3  1.711585e-07    0.000001\n",
      "6397  0.473684  3.005130   1920    1080      3  2.284357e-07    0.000001\n",
      "6398  0.446071  2.955398   1920    1080      3  2.151191e-07    0.000001\n",
      "6399  0.505503  2.854361   1920    1080      3  2.437805e-07    0.000001\n",
      "6400  0.555382  4.046104   1920    1080      3  2.678348e-07    0.000002\n",
      "\n",
      "[6401 rows x 7 columns]\n"
     ]
    }
   ],
   "source": [
    "file_name = \"../../data/scene.csv\"\n",
    "data = pd.read_csv(file_name)\n",
    "data[\"scaled_avg\"] = data[\"avg\"] / (data[\"width\"] * data[\"height\"])\n",
    "data[\"scaled_std\"] = data[\"std\"] / (data[\"width\"] * data[\"height\"])\n",
    "x = data.iloc[:, -2:].values\n",
    "y = data[\"scene\"]\n",
    "print(data)"
   ]
  },
  {
   "cell_type": "code",
   "execution_count": 4,
   "metadata": {},
   "outputs": [
    {
     "name": "stdout",
     "output_type": "stream",
     "text": [
      "Accuracy: 0.8294283036551078\n",
      "              precision    recall  f1-score   support\n",
      "\n",
      "           0       0.96      0.93      0.94       860\n",
      "           1       0.85      0.75      0.79       457\n",
      "           2       0.87      0.82      0.84      1622\n",
      "           3       0.42      0.69      0.53       262\n",
      "\n",
      "    accuracy                           0.83      3201\n",
      "   macro avg       0.77      0.80      0.78      3201\n",
      "weighted avg       0.85      0.83      0.84      3201\n",
      "\n"
     ]
    }
   ],
   "source": [
    "from sklearn.model_selection import train_test_split\n",
    "from sklearn.metrics import classification_report\n",
    "from sklearn.metrics import accuracy_score\n",
    "\n",
    "train_x, test_x, train_y, test_y = train_test_split(\n",
    "    x, y, test_size=0.5, random_state=100\n",
    ")\n",
    "model = ssc.train_model(train_x, train_y)\n",
    "prediction = model.predict(test_x)\n",
    "accuracy = accuracy_score(prediction, test_y)\n",
    "print(f\"Accuracy: {accuracy}\")\n",
    "print(classification_report(prediction, test_y))"
   ]
  },
  {
   "cell_type": "code",
   "execution_count": 5,
   "metadata": {},
   "outputs": [],
   "source": [
    "data_pool_path = f\"{module_path}/../../DataPool/ssc-dataset\"\n",
    "scene_dirs = os.listdir(f\"{data_pool_path}/scene-by-jumbo-id\")\n",
    "\n",
    "labeled_df = pd.DataFrame()\n",
    "for scene_dir in scene_dirs:\n",
    "    file_name = f\"{data_pool_path}/scene-by-jumbo-id/{scene_dir}/scene.csv\"\n",
    "    data = pd.read_csv(\n",
    "        file_name,\n",
    "        header=None,\n",
    "        names=[\"total\", \"avg\", \"std\", \"variance\", \"width\", \"height\", \"scene\"],\n",
    "    )\n",
    "    data[\"jumbo_id\"] = scene_dir\n",
    "    labeled_df = labeled_df.append(data)"
   ]
  },
  {
   "cell_type": "code",
   "execution_count": 6,
   "metadata": {},
   "outputs": [],
   "source": [
    "y = labeled_df[\"scene\"].values\n",
    "X = labeled_df.drop(columns=[\"scene\", \"jumbo_id\"]).values"
   ]
  },
  {
   "cell_type": "code",
   "execution_count": 7,
   "metadata": {},
   "outputs": [
    {
     "data": {
      "text/plain": [
       "array([0.86736704, 0.8338805 , 0.75640184, 0.82403152, 0.86727989])"
      ]
     },
     "execution_count": 7,
     "metadata": {},
     "output_type": "execute_result"
    }
   ],
   "source": [
    "from sklearn.model_selection import cross_val_score\n",
    "from sklearn.neighbors import KNeighborsClassifier\n",
    "\n",
    "k = 4\n",
    "knn = KNeighborsClassifier(n_neighbors=k)\n",
    "scores = cross_val_score(knn, X, y, cv=5)\n",
    "scores"
   ]
  }
 ],
 "metadata": {
  "kernelspec": {
   "display_name": "Python 3",
   "language": "python",
   "name": "python3"
  },
  "language_info": {
   "codemirror_mode": {
    "name": "ipython",
    "version": 3
   },
   "file_extension": ".py",
   "mimetype": "text/x-python",
   "name": "python",
   "nbconvert_exporter": "python",
   "pygments_lexer": "ipython3",
   "version": "3.8.2"
  }
 },
 "nbformat": 4,
 "nbformat_minor": 2
}

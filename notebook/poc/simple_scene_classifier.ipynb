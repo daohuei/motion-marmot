{
 "cells": [
  {
   "cell_type": "code",
   "execution_count": 1,
   "metadata": {},
   "outputs": [],
   "source": [
    "import pandas as pd\n",
    "import os, sys\n",
    "\n",
    "module_path = os.path.abspath(os.path.join(\"../..\"))\n",
    "if module_path not in sys.path:\n",
    "    sys.path.append(module_path)\n",
    "from motion_marmot.simple_scene_classifier import SimpleSceneClassifier\n",
    "\n",
    "ssc = SimpleSceneClassifier(\"POC SSC\")"
   ]
  },
  {
   "cell_type": "code",
   "execution_count": 2,
   "metadata": {},
   "outputs": [
    {
     "name": "stdout",
     "output_type": "stream",
     "text": [
      "SimpleSceneClassifier(name=POC SSC)\n"
     ]
    }
   ],
   "source": [
    "print(ssc)"
   ]
  },
  {
   "cell_type": "code",
   "execution_count": 3,
   "metadata": {},
   "outputs": [
    {
     "name": "stdout",
     "output_type": "stream",
     "text": [
      "           avg       std  width  height  scene    scaled_avg  scaled_std\n",
      "0     0.336788  2.415257   1920    1080      2  1.624168e-07    0.000001\n",
      "1     0.408609  2.721680   1920    1080      2  1.970531e-07    0.000001\n",
      "2     0.451202  3.356803   1920    1080      2  2.175937e-07    0.000002\n",
      "3     0.529960  5.591995   1920    1080      2  2.555749e-07    0.000003\n",
      "4     0.458626  3.192411   1920    1080      2  2.211736e-07    0.000002\n",
      "...        ...       ...    ...     ...    ...           ...         ...\n",
      "6396  0.354914  2.165539   1920    1080      3  1.711585e-07    0.000001\n",
      "6397  0.473684  3.005130   1920    1080      3  2.284357e-07    0.000001\n",
      "6398  0.446071  2.955398   1920    1080      3  2.151191e-07    0.000001\n",
      "6399  0.505503  2.854361   1920    1080      3  2.437805e-07    0.000001\n",
      "6400  0.555382  4.046104   1920    1080      3  2.678348e-07    0.000002\n",
      "\n",
      "[6401 rows x 7 columns]\n"
     ]
    }
   ],
   "source": [
    "file_name = \"../../data/scene.csv\"\n",
    "data = pd.read_csv(file_name)\n",
    "data[\"scaled_avg\"] = data[\"avg\"] / (data[\"width\"] * data[\"height\"])\n",
    "data[\"scaled_std\"] = data[\"std\"] / (data[\"width\"] * data[\"height\"])\n",
    "x = data.iloc[:, -2:].values\n",
    "y = data[\"scene\"]\n",
    "print(data)"
   ]
  },
  {
   "cell_type": "code",
   "execution_count": 4,
   "metadata": {},
   "outputs": [
    {
     "name": "stdout",
     "output_type": "stream",
     "text": [
      "Accuracy: 0.8294283036551078\n",
      "              precision    recall  f1-score   support\n",
      "\n",
      "           0       0.96      0.93      0.94       860\n",
      "           1       0.85      0.75      0.79       457\n",
      "           2       0.87      0.82      0.84      1622\n",
      "           3       0.42      0.69      0.53       262\n",
      "\n",
      "    accuracy                           0.83      3201\n",
      "   macro avg       0.77      0.80      0.78      3201\n",
      "weighted avg       0.85      0.83      0.84      3201\n",
      "\n"
     ]
    }
   ],
   "source": [
    "from sklearn.model_selection import train_test_split\n",
    "from sklearn.metrics import classification_report\n",
    "from sklearn.metrics import accuracy_score\n",
    "\n",
    "train_x, test_x, train_y, test_y = train_test_split(\n",
    "    x, y, test_size=0.5, random_state=100\n",
    ")\n",
    "model = ssc.train_model(train_x, train_y)\n",
    "prediction = model.predict(test_x)\n",
    "accuracy = accuracy_score(prediction, test_y)\n",
    "print(f\"Accuracy: {accuracy}\")\n",
    "print(classification_report(prediction, test_y))"
   ]
  },
  {
   "cell_type": "code",
   "execution_count": 5,
   "metadata": {},
   "outputs": [],
   "source": [
    "data_pool_path = f\"{module_path}/../../DataPool/ssc-dataset\"\n",
    "scene_dirs = os.listdir(f\"{data_pool_path}/scene-by-jumbo-id\")\n",
    "\n",
    "labeled_df = pd.DataFrame()\n",
    "for scene_dir in scene_dirs:\n",
    "    file_name = f\"{data_pool_path}/scene-by-jumbo-id/{scene_dir}/scene.csv\"\n",
    "    data = pd.read_csv(\n",
    "        file_name,\n",
    "        header=None,\n",
    "        names=[\"total\", \"avg\", \"std\", \"variance\", \"width\", \"height\", \"scene\"],\n",
    "    )\n",
    "    data[\"jumbo_id\"] = scene_dir\n",
    "    labeled_df = labeled_df.append(data)"
   ]
  },
  {
   "cell_type": "code",
   "execution_count": 6,
   "metadata": {},
   "outputs": [],
   "source": [
    "y = labeled_df[\"scene\"].values\n",
    "x = labeled_df.drop(columns=[\"scene\", \"jumbo_id\"]).values"
   ]
  },
  {
   "cell_type": "code",
   "execution_count": 7,
   "metadata": {},
   "outputs": [
    {
     "data": {
      "text/plain": [
       "array([0.87664042, 0.87270341, 0.84362681, 0.89750329, 0.85939553])"
      ]
     },
     "execution_count": 7,
     "metadata": {},
     "output_type": "execute_result"
    }
   ],
   "source": [
    "from sklearn.model_selection import cross_val_score\n",
    "from sklearn.neighbors import KNeighborsClassifier\n",
    "\n",
    "train_x, test_x, train_y, test_y = train_test_split(\n",
    "    x, y, test_size=0.5, random_state=100\n",
    ")\n",
    "\n",
    "k = 4\n",
    "knn = KNeighborsClassifier(n_neighbors=k)\n",
    "scores = cross_val_score(knn, train_x, train_y, cv=5)\n",
    "scores"
   ]
  },
  {
   "cell_type": "code",
   "execution_count": 8,
   "metadata": {},
   "outputs": [],
   "source": [
    "knn.fit(train_x, train_y)\n",
    "knn_prediction = knn.predict(test_x)\n"
   ]
  },
  {
   "cell_type": "code",
   "execution_count": 9,
   "metadata": {},
   "outputs": [
    {
     "data": {
      "text/plain": [
       "0.8828473863934857"
      ]
     },
     "execution_count": 9,
     "metadata": {},
     "output_type": "execute_result"
    }
   ],
   "source": [
    "from sklearn.metrics import classification_report\n",
    "from sklearn.metrics import confusion_matrix\n",
    "from sklearn.metrics import accuracy_score\n",
    "\n",
    "accuracy_score(knn_prediction, test_y)"
   ]
  },
  {
   "cell_type": "code",
   "execution_count": 10,
   "metadata": {},
   "outputs": [
    {
     "name": "stdout",
     "output_type": "stream",
     "text": [
      "              precision    recall  f1-score   support\n",
      "\n",
      "           0       0.95      0.86      0.90      1853\n",
      "           1       0.94      0.90      0.92      1066\n",
      "           2       0.73      0.90      0.80       657\n",
      "           3       0.73      0.92      0.81       231\n",
      "\n",
      "    accuracy                           0.88      3807\n",
      "   macro avg       0.84      0.89      0.86      3807\n",
      "weighted avg       0.90      0.88      0.89      3807\n",
      "\n"
     ]
    }
   ],
   "source": [
    "print(classification_report(knn_prediction, test_y))"
   ]
  },
  {
   "cell_type": "code",
   "execution_count": 11,
   "metadata": {
    "scrolled": false
   },
   "outputs": [
    {
     "name": "stdout",
     "output_type": "stream",
     "text": [
      "[[1598   44  200   11]\n",
      " [  24  962   16   64]\n",
      " [  54   10  589    4]\n",
      " [   4   12    3  212]]\n"
     ]
    }
   ],
   "source": [
    "print(confusion_matrix(knn_prediction, test_y))"
   ]
  },
  {
   "cell_type": "code",
   "execution_count": 12,
   "metadata": {},
   "outputs": [
    {
     "data": {
      "text/plain": [
       "array([0.94750656, 0.96194226, 0.91852825, 0.94218134, 0.9500657 ])"
      ]
     },
     "execution_count": 12,
     "metadata": {},
     "output_type": "execute_result"
    }
   ],
   "source": [
    "from sklearn.tree import DecisionTreeClassifier # Import Decision Tree Classifier\n",
    "\n",
    "tree = DecisionTreeClassifier()\n",
    "scores = cross_val_score(tree, train_x, train_y, cv=5)\n",
    "scores"
   ]
  },
  {
   "cell_type": "code",
   "execution_count": 13,
   "metadata": {},
   "outputs": [
    {
     "data": {
      "text/plain": [
       "0.9437877593905962"
      ]
     },
     "execution_count": 13,
     "metadata": {},
     "output_type": "execute_result"
    }
   ],
   "source": [
    "tree.fit(train_x, train_y)\n",
    "tree_prediction = tree.predict(test_x)\n",
    "\n",
    "accuracy_score(tree_prediction, test_y)"
   ]
  },
  {
   "cell_type": "code",
   "execution_count": 14,
   "metadata": {},
   "outputs": [
    {
     "name": "stdout",
     "output_type": "stream",
     "text": [
      "              precision    recall  f1-score   support\n",
      "\n",
      "           0       0.96      0.95      0.96      1693\n",
      "           1       0.96      0.97      0.96      1025\n",
      "           2       0.90      0.91      0.90       805\n",
      "           3       0.89      0.92      0.90       284\n",
      "\n",
      "    accuracy                           0.94      3807\n",
      "   macro avg       0.93      0.94      0.93      3807\n",
      "weighted avg       0.94      0.94      0.94      3807\n",
      "\n"
     ]
    }
   ],
   "source": [
    "print(classification_report(tree_prediction, test_y))"
   ]
  },
  {
   "cell_type": "code",
   "execution_count": 15,
   "metadata": {},
   "outputs": [
    {
     "name": "stdout",
     "output_type": "stream",
     "text": [
      "[[1614    3   69    7]\n",
      " [   3  990   10   22]\n",
      " [  63   11  729    2]\n",
      " [   0   24    0  260]]\n"
     ]
    }
   ],
   "source": [
    "print(confusion_matrix(tree_prediction, test_y))"
   ]
  },
  {
   "cell_type": "markdown",
   "metadata": {},
   "source": [
    "Seems like pure $Decision Tree$ is totally beat $KNN$ classifier.\n",
    "\n",
    "\\# TODO: need to do parameters tunning"
   ]
  }
 ],
 "metadata": {
  "kernelspec": {
   "display_name": "Python 3",
   "language": "python",
   "name": "python3"
  },
  "language_info": {
   "codemirror_mode": {
    "name": "ipython",
    "version": 3
   },
   "file_extension": ".py",
   "mimetype": "text/x-python",
   "name": "python",
   "nbconvert_exporter": "python",
   "pygments_lexer": "ipython3",
   "version": "3.8.2"
  }
 },
 "nbformat": 4,
 "nbformat_minor": 2
}
